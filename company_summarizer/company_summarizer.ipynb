{
 "cells": [
  {
   "cell_type": "markdown",
   "id": "105a598d-4eda-4188-9f24-d635b57ddedb",
   "metadata": {},
   "source": [
    "# Company Summarizer\n",
    "\n",
    "LLMs are great at structuring and summarizing unstructured data, such as natural language. We can leverage LLMs to extract specific information from text content, such as websites.\n",
    "\n",
    "Imagine you are an angel investor or you are hunting for a job, but you are searching for a specific traits in companies, such as an innovative culture that embraces experimentation. Or you want to get an overview about their team, founders or investors. LLMs are perfect for such tasks. They make automization of extracting information from natural language super easy. And they are really good at it, too.\n",
    "\n",
    "In this project, I am using the OpenAI API to ask LLMs to extract and structure specific data from company websites. I will try to find out about their product, their culture and their founder(s).\n"
   ]
  },
  {
   "cell_type": "code",
   "execution_count": 169,
   "id": "ad72f8c3-90a3-4170-8846-4b7dd874d65c",
   "metadata": {},
   "outputs": [],
   "source": [
    "from typing import List, Generator\n",
    "import json\n",
    "import os\n",
    "\n",
    "from openai import OpenAI\n",
    "from dotenv import load_dotenv\n",
    "from bs4 import BeautifulSoup \n",
    "from IPython.display import Markdown, display\n",
    "import requests\n",
    "import gradio as gr"
   ]
  },
  {
   "cell_type": "markdown",
   "id": "13b82726-11fe-4de7-a053-0f0e299808ad",
   "metadata": {},
   "source": [
    "First, lets create a Website class that uses requests and BeautifulSoup to scrape contents from a company website"
   ]
  },
  {
   "cell_type": "code",
   "execution_count": 170,
   "id": "9be4b50f-66f6-4cb5-a624-10acf2cead66",
   "metadata": {},
   "outputs": [],
   "source": [
    "class Website:\n",
    "    url: str\n",
    "    title: str\n",
    "    body: str\n",
    "    text: str\n",
    "    links: List[str]\n",
    "    \n",
    "    def __init__(self, url: str):\n",
    "        self.url = url\n",
    "        self.__scrape_webpage()\n",
    "\n",
    "    def __scrape_webpage(self):\n",
    "        response = requests.get(self.url)\n",
    "        self.body = response.content\n",
    "        soup = BeautifulSoup(self.body, 'html.parser')\n",
    "        self.__get_website_title(soup)\n",
    "        self.__get_website_text(soup)\n",
    "        self.__get_links_from_website(soup)\n",
    "\n",
    "    def __get_website_title(self, soup: BeautifulSoup):\n",
    "        self.title = soup.title.string if soup.title else \"Website has no title\"\n",
    "        \n",
    "    def __get_website_text(self, soup: BeautifulSoup):\n",
    "        if soup.body:\n",
    "            for irrelevant in soup.body([\"script\", \"style\", \"img\", \"input\"]):\n",
    "                irrelevant.decompose()\n",
    "            self.text = soup.body.get_text(separator=\"\\n\", strip=True)\n",
    "        else:\n",
    "            self.text = \"\"\n",
    "            \n",
    "    def __get_links_from_website(self, soup: BeautifulSoup):\n",
    "        links = [link.get('href') for link in soup.find_all('a')]\n",
    "        self.links = [link for link in links if link]\n",
    "\n",
    "    def get_contents(self):\n",
    "        return f\"Website Title:\\n{self.title}\\n\\nWebsite Contents:\\n{self.text}\\n\\n\"\n",
    "        "
   ]
  },
  {
   "cell_type": "markdown",
   "id": "0ae5d208-7a8a-44f6-8d4a-5476da8c2fd5",
   "metadata": {},
   "source": [
    "Let's give this a try for the company website of my friends at Plancraft - a company creating a software for craftsmen to organize their projects, plan their capacities, create offers and bills etc."
   ]
  },
  {
   "cell_type": "code",
   "execution_count": 171,
   "id": "b9cb3f73-4310-49e5-8cf9-812351b270fd",
   "metadata": {},
   "outputs": [],
   "source": [
    "plancraft = Website(\"https://plancraft.de/en\")"
   ]
  },
  {
   "cell_type": "code",
   "execution_count": 172,
   "id": "61e54099-4689-4ed3-b112-ecad841b115a",
   "metadata": {},
   "outputs": [
    {
     "name": "stdout",
     "output_type": "stream",
     "text": [
      "Website Title:\n",
      "Boost your contractor business with plancraft - Easy Craftsman Software\n",
      "\n",
      "Website Contents:\n",
      "Features\n",
      "Order Documents\n",
      "Offers, order confirmations, delivery notes and invoices.\n",
      "Craftsman Cloud\n",
      "Access your data from anywhere and on any device thanks to the cloud.\n",
      "Interfaces\n",
      "Import your data easily.\n",
      "Mobile Measurement\n",
      "Take measurements on site at the customer's premises? No problem!\n",
      "Financial Administration\n",
      "Manage payments from wherever you want.\n",
      "Time Recording\n",
      "All working hours at a glance.\n",
      "Master Data\n",
      "Manage your data easily.\n",
      "Post-Calculation\n",
      "Determine profitable prices for your services.\n",
      "Planning Board\n",
      "Project and deployment planning for your company.\n",
      "Pricing\n",
      "Crafts\n",
      "Building Contractor\n",
      "Learn how Plancraft can help you optimize your construction business.\n",
      "Roofer\n",
      "Find out how digitization can help you as a roofer\n",
      "‍\n",
      "Painter\n",
      "An overview for Plancraft in painting and varnishing companies\n",
      "‍\n",
      "Joiner\n",
      "Discover Plancraft's options for your joinery\n",
      "Carpenter\n",
      "Learn how to improve your carpentry with Plancraft\n",
      "‍\n",
      "Plancraft is craftsman software for all trades. This is an initial selection of trades.\n",
      "Success Stories\n",
      "Andy Hansen\n",
      "Painter Andy saves 6 hours of working time every week.\n",
      "Torben Krumbügel\n",
      "How Zimmerei Krumbügel successfully digitized.\n",
      "Denis Höper\n",
      "Construction company BauProTherm focuses on more growth with plancraft.\n",
      "Sebastian Blümel\n",
      "Tiler Sebastian now always has an eye on his working hours.\n",
      "Giuseppe Giannino\n",
      "As a new founder, Guiseppe has to be able to concentrate on the most important things.\n",
      "Martin Bienek\n",
      "The Painter works from anywhere thanks to the mobile app.\n",
      "Hagen Wolter\n",
      "This is how the painter experienced the switch from Excel to plancraft.\n",
      "Jonas Dämgen\n",
      "The roofer with 15 employees needs real-time communication via chat.\n",
      "Ben Andresen\n",
      "Ben from Lebenswerk Raumentfaltung was one of the first plancraft customers.\n",
      "Thomas Muschelknautz\n",
      "The Muschelknautz carpentry company wanted to get rid of the Excel solution.\n",
      "Markus Rüdiger\n",
      "Markus has been using plancraft since he founded his renovation company.\n",
      "About us\n",
      "team\n",
      "That special something:\n",
      "Our team! Find out who is behind plancraft.\n",
      "Career\n",
      "Everything about working at plancraft. Discover our open job opportunities!\n",
      "instagram\n",
      "Youtube\n",
      "Learn more\n",
      "Book a Demo\n",
      "And get insights into our software\n",
      "Blog\n",
      "About digitization in crafts\n",
      "Product Updates\n",
      "Overview of our latest features\n",
      "Newsletters\n",
      "We will inform you about exciting topics\n",
      "Partners\n",
      "Get to know our Plancraft community\n",
      "For Master Apprentices\n",
      "Use plancraft as a master student\n",
      "For Business Founders\n",
      "We want to equip new business founders with our software\n",
      "Login\n",
      "Start free trial\n",
      "Deutsch\n",
      "English\n",
      "German\n",
      "English\n",
      "Deutsch\n",
      "English\n",
      "German\n",
      "English\n",
      "Deutsch\n",
      "English\n",
      "Deutsch\n",
      "English\n",
      "The simple software\n",
      "for your craft\n",
      "Save at least 4 hours each week. Thanks to the latest cloud technology and easy operation, you can now complete your office work in no time.\n",
      "Start free trial\n",
      "Book Demo\n",
      "Start free trial\n",
      "Book demo\n",
      "Over 10,000 craftsmen 💚 plancraft\n",
      "So much more than just software for craftsmen\n",
      "Create documents fast.\n",
      "Plancraft enables you to quickly create all important documents, including quotes and invoices. Our advanced editor and intuitive drag-and-drop feature ensure you can efficiently and seamlessly handle your office work.\n",
      "‍\n",
      "Start free trial\n",
      "Create documents fast.\n",
      "Plancraft enables you to quickly create all important documents, including quotes and invoices. Our advanced editor and intuitive drag-and-drop feature ensure you can efficiently and seamlessly handle your office work.\n",
      "Start free trial\n",
      "Perfect control over working hours and projects.\n",
      "Time tracking has never been easier! With the plancraft app, your employees can log their working hours and tasks on the go, allowing you to view all data in real time. The recorded times flow directly into the post-calculation, so you always have everything under control. It doesn't get any easier!\n",
      "Start free trial\n",
      "Perfect control over working hours and projects.\n",
      "Time tracking has never been easier! With the plancraft app, your employees can log their working hours and tasks on the go, allowing you to view all data in real time. The recorded times flow directly into the post-calculation, so you always have everything under control. It doesn't get any easier!\n",
      "Start free trial\n",
      "Optimal collaboration for better project results.\n",
      "Plancraft greatly enhances team communication and documentation. With automatic work instructions, material lists, and project-specific chats, you have all the tools you need to optimize collaboration and complete tasks successfully.\n",
      "‍\n",
      "Start free trial\n",
      "Optimal collaboration for better project results.\n",
      "Plancraft greatly enhances team communication and documentation. With automatic work instructions, material lists, and project-specific chats, you have all the tools you need to optimize collaboration and complete tasks successfully.\n",
      "Start free trial\n",
      "What successful craftsmen say about plancraft\n",
      "\"Faster, easier, more effective—I've never managed my office work so efficiently (even with other programs).\n",
      "Mega support\n",
      ", there's always someone reachable (call, WhatsApp, or email) and the feedback is ultra-fast! My full recommendation!\"\n",
      "Sebastian Blümel\n",
      "CEO Lord of the Tiles\n",
      "\"No more annoying time sheets on paper. With plancraft, I can record my employees' times digitally. It's\n",
      "superfast\n",
      "and done in just a few clicks at the end of the month.\"\n",
      "Torben Krumbügel\n",
      "Carpenter Krumbügel\n",
      "\"Switching to plancraft was a breeze for me. With a\n",
      "user-friendly interface\n",
      "and intuitive features, I could start working productively right away.\"\n",
      "‍\n",
      "Andy Hansen\n",
      "Painter Andy\n",
      "\"I've been using the app for over 2 years and I'm thrilled. Continuous development and\n",
      "super customer service\n",
      "(if I ever need help) make it just fun to work with the app.\"\n",
      "‍\n",
      "Max Böhm\n",
      "Carpenter Böhm\n",
      "Signup now and start testing!\n",
      "Start free trial\n",
      "All features of plancraft for your craft business\n",
      "Calendar\n",
      "Our scheduling board ensures clarity and overview. Employees can be easily assigned to projects, and you always maintain full visibility.\n",
      "Cloud\n",
      "Want to create a quote on-site using a tablet? No problem. Thanks to the Craftsman Cloud, you get all updates for free and automatically. This way, you can work conveniently from anywhere.\n",
      "Interfaces\n",
      "Whether it's DATANORM catalogs, contact lists, or tenders. With plancraft, you can import everything you need for your business.\n",
      "Database\n",
      "Store materials, services, and contact information for existing customers.\n",
      "In-depth calculation\n",
      "Store the measurements, calculate your labor costs, and find the best prices for you. Whether it's unit prices or total sums, calculate your way. This way, you can create quotes in record time.\n",
      "DATEV\n",
      "Use the DATEV export to forward your invoices directly to your tax advisor.\n",
      "Start free trial\n",
      "Just as flexible as you – modern craftsman software\n",
      "Digital office on all devices\n",
      "Experience a new way to process orders. All team members can simultaneously create quotes and invoices – on a PC or on the go with a tablet.\n",
      "‍\n",
      "Equip your team to work on the move\n",
      "Access projects, record hours, start navigation, and retrieve work instructions. With plancraft, your team is perfectly equipped. Photos and comments are automatically added to the project and ready for billing in the office. This is how teamwork works.\n",
      "Digital office on all devices\n",
      "Experience a new way to process orders. All team members can simultaneously create quotes and invoices – on a PC or on the go with a tablet.\n",
      "Start free trial\n",
      "Equip your team to work on the move\n",
      "Access projects, record hours, start navigation, and retrieve work instructions. With plancraft, your team is perfectly equipped. Photos and comments are automatically added to the project and ready for billing in the office. This is how teamwork works.\n",
      "Start free trial\n",
      "Do you still have unanswered questions?\n",
      "Whether you're already a customer or not, if you have any questions about the process, we're happy to take the time you need.\n",
      "Just get in touch with us, we're looking forward to it!\n",
      "Your plancraft sales team\n",
      "sales@plancraft.de\n",
      "040 32 89 02 43 0\n",
      "whatsapp\n",
      "Book a demo\n",
      "Trusted by over 10,000 craftsmen\n",
      "Tobias Walter\n",
      "\"We tested various software solutions, and plancraft was definitely the best decision for us. The support is also super nice, fast, and helpful. Clear recommendation!\"\n",
      "Rene Porella\n",
      "\"Despite its extensive features, plancraft is quick and easy to understand. Even newcomers need only a short adjustment period. In our company, plancraft has proven to be indispensable for daily business operations.\"\n",
      "Thomas Barth\n",
      "\"Super simple software at fair prices. Questions or suggestions for optimization are quickly responded to. I think I was one of the first users :) and I can say that the program continuously improves.\"\n",
      "Carsten Reez\n",
      "\"We have been with plancraft for almost two years now and haven't regretted a single day. The team is just top-notch. Questions are answered super quickly and personally. We look forward to the coming years.\"\n",
      "Anton Apel\n",
      "\"The software is comprehensive yet equally easy to use. When we had questions, the contact persons on the phone were extremely helpful, friendly, and accommodating! Great program with a dedicated team in the background!\"\n",
      "Mike Möller\n",
      "\"If you don't use plancraft, it's your own fault! The software is very easy to use, and the work almost takes care of itself.\"\n",
      "Digitalize your business now with plancraft.\n",
      "Try it for free now – no credit card required.\n",
      "Start free trial\n",
      "Easy software.\n",
      "Gain freedom.\n",
      "Start now.\n",
      "Start free trial\n",
      "Learn more\n",
      "Book a demo\n",
      "Pricing\n",
      "blog\n",
      "Product Updates\n",
      "Newsletter\n",
      "Digital Campus\n",
      "Tip of the week\n",
      "For business founders\n",
      "For master apprentices\n",
      "About us\n",
      "Career\n",
      "team\n",
      "Partners\n",
      "social media\n",
      "Contact\n",
      "Help Section\n",
      "🇩🇪 +49 40 32 89 02 43 0\n",
      "🇦🇹 +43 720 881394\n",
      "Mo - Fr 9 a.m. - 6 p.m.\n",
      "social media\n",
      "Data Protection\n",
      "Imprint\n",
      "Terms and Conditions\n",
      "Made with 💚 in 🇩🇪\n",
      "\n",
      "\n"
     ]
    }
   ],
   "source": [
    "print(plancraft.get_contents())"
   ]
  },
  {
   "cell_type": "markdown",
   "id": "e43c7aa0-9a22-4834-9b9c-e8864a01e5a7",
   "metadata": {},
   "source": [
    "## Leveraging GPT-4o-mini to filter relevant links \n",
    "\n",
    "To gather information about what the company does, what the culture looks like and whether they have any open tech positions, I will call the OpenAI API to return a JSON-formatted overview of relevant links.\n",
    "\n",
    "Let's load the OpenAI API key from my local .env file and create the OpenAI client first."
   ]
  },
  {
   "cell_type": "code",
   "execution_count": 173,
   "id": "45a70075-e9ef-4eb6-8557-381fd143e1f4",
   "metadata": {},
   "outputs": [],
   "source": [
    "load_dotenv()\n",
    "os.environ['OPENAI_API_KEY'] = os.getenv('OPENAI_API_KEY')\n",
    "\n",
    "openai = OpenAI()"
   ]
  },
  {
   "cell_type": "markdown",
   "id": "d4e37310-7e7f-4d91-917e-856c5bca7cdc",
   "metadata": {},
   "source": [
    " Now, let's create an OpenAI caller function to handle single-shot calls to the OpenAI API that returns Python dicts by parsing the JSON response of the GPT model. Note: We will have to tell the model both in the system and user prompt to return JSON-formatted data. "
   ]
  },
  {
   "cell_type": "code",
   "execution_count": 174,
   "id": "d78df808-c25b-429d-8e70-0d5ad968fd52",
   "metadata": {},
   "outputs": [],
   "source": [
    "def call_openai_json(system_prompt: str, user_prompt: str) -> dict:\n",
    "    response=openai.chat.completions.create(\n",
    "        model='gpt-4o-mini',\n",
    "        messages=[\n",
    "            {\"role\": \"system\", \"content\": system_prompt},\n",
    "            {\"role\": \"user\", \"content\": user_prompt}\n",
    "      ],\n",
    "        response_format={\"type\": \"json_object\"}\n",
    "    )\n",
    "    json_str = response.choices[0].message.content\n",
    "    return json.loads(json_str)"
   ]
  },
  {
   "cell_type": "markdown",
   "id": "8ed65441-228a-4826-ab37-2ec2213d122b",
   "metadata": {},
   "source": [
    "## Creating promts to get relevant links for the question at hand in JSON format"
   ]
  },
  {
   "cell_type": "code",
   "execution_count": 175,
   "id": "a0196c0f-2773-4f64-b985-cbc77ea3fc75",
   "metadata": {},
   "outputs": [],
   "source": [
    "system_prompt_links = \"\"\"\n",
    "You are a web scraper assistant and are provided with a list of links from a company website. You are able to select relevant links \n",
    "from that list to retrieve information about the company's product, its culture and its founders. \n",
    "\n",
    "You will respond using JSON, using the following format:\n",
    "\n",
    "{\n",
    "    \"relevant_links\": [\n",
    "        \"type\": \"about\", \"url\": \"https://some-company.com/about-us\",\n",
    "        \"type\": \"product\", \"url\": \"https://cool-startup.io/features\",\n",
    "        \"type\": \"jobs\", \"url\": \"https://cool-startup.io/jobs\",\n",
    "        ...\n",
    "    ]\n",
    "}\n",
    "\"\"\"\n",
    "\n",
    "def create_user_prompt_links(website: Website) -> str:\n",
    "    return f\"\"\"\n",
    "    Below, you will find a list of links from the company website {website.url}.\n",
    "    Please decide which links are useful to find information about the company's product, its culture and its founders. \n",
    "    Answer in JSON format and return full HTTPS URLs. Don't return links for stuff like terms of service, legal or contact. \n",
    "\n",
    "    These are the links: {website.links}\n",
    "    \"\"\""
   ]
  },
  {
   "cell_type": "code",
   "execution_count": 176,
   "id": "1aa6f309-3fee-47cc-ba34-af5f5b704f59",
   "metadata": {},
   "outputs": [
    {
     "name": "stdout",
     "output_type": "stream",
     "text": [
      "\n",
      "    Below, you will find a list of links from the company website https://plancraft.de/en.\n",
      "    Please decide which links are useful to find information about the company's product, its culture and its founders. \n",
      "    Answer in JSON format and return full HTTPS URLs. Don't return links for stuff like terms of service, legal or contact. \n",
      "\n",
      "    These are the links: ['/en', '/en/features', '/en/features', '/en/features', '/en/features', '/en/features', '/en/features', '/en/features', '/en/features/master-data', '/en/features', '/en/features/project-planning', '/en/prices', '/en/crafts', '/en/crafts/construction-companies', '/en/crafts/roofer', '/en/crafts/painter-and-varnisher', '/en/crafts/joinery', '/en/crafts/carpentry', '/en/success-stories', '/en/success-stories/painter-andy', '/en/success-stories/carpentry-krumbuegel', '/en/success-stories/dennis-hoeper', '/en/success-stories/sebastian-bluemel', '/en/success-stories/giuseppe-giannino', '/en/success-stories/martin-bruno-bienek', '/en/success-stories/hagen-wolter', '/en/success-stories/jonas-daemgen', '/en/success-stories/ben-andresen', '/en/success-stories/thomas-muschelknautz', '/en/success-stories/markus-ruediger', '/en/team', '/en/team', '/en/career', 'https://www.instagram.com/plancraft.app/', 'https://www.youtube.com/channel/UCcadHJ4OovMpWn7Nzpfs3UA', '/en/learn-more', '/en/demo', '/en/blog', 'https://plancraft.de/mehr-erfahren/news', 'https://plancraft.de/mehr-erfahren/newsletter', '/en/partner', '/en/plancraft-fur-existensgrunder/masterstudents', '/en/plancraft-fur-existensgrunder/newfounders', '/anmelden', '/registrieren', '/', '/en', '#', '#', '/', '/en', '#', '#', '/', '/en', '/', '/en', 'https://plancraft.de/registrieren', '/en/demo', 'https://plancraft.de/registrieren', '/en/demo', '#', '#', '#', '#', '#', '#', '#', '#', '#', '#', 'https://plancraft.de/registrieren', 'https://plancraft.de/registrieren', 'https://plancraft.de/registrieren', 'https://plancraft.de/registrieren', 'https://plancraft.de/registrieren', 'https://plancraft.de/registrieren', 'https://plancraft.de/registrieren', 'https://plancraft.de/registrieren', 'https://plancraft.de/registrieren', 'mailto:sales@plancraft.de?subject=Besuch%20eurer%20Homepage%20%7C%7C%20%3CBetreff%3E', 'tel:040328902430', 'https://wa.me/4940328902430', '/en/demo', '/registrieren', '/en/demo', '/en/prices', '/en/blog', '/en/learn-more/news', '/en/learn-more/newsletter', '/en/learn-more/digital-campus', '/en/learn-more/tip-of-the-week', '/en/plancraft-fur-existensgrunder/newfounders', '/en/plancraft-fur-existensgrunder/masterstudents', '/en/career', '/en/team', '/en/partner', 'https://www.instagram.com/plancraft.app/?hl=de', 'https://www.facebook.com/plancraftgmbh/', 'https://www.linkedin.com/company/plancraft-gmbh/', 'https://www.youtube.com/channel/UCcadHJ4OovMpWn7Nzpfs3UA', 'https://hilfe.plancraft.de/', 'tel:+4940328902430', 'tel:+43720881394', 'https://www.instagram.com/plancraft.app/?hl=de', 'https://www.facebook.com/plancraftgmbh/', 'https://www.linkedin.com/company/plancraft-gmbh/', 'https://www.youtube.com/channel/UCcadHJ4OovMpWn7Nzpfs3UA', '/en/data-protection', '/en/imprint', '/en/agb', 'https://www.youtube.com/channel/UCcadHJ4OovMpWn7Nzpfs3UA', 'https://www.instagram.com/plancraft.app/?hl=de', 'https://www.facebook.com/plancraftgmbh/', 'https://bdbau.org/', 'https://www.datenschutzexperte.de/datenschutzsiegel/', 'https://www.bescheinigung-forschungszulage.de/infothek/bsfz-siegel']\n",
      "    \n"
     ]
    }
   ],
   "source": [
    "print(create_user_prompt_links(plancraft))"
   ]
  },
  {
   "cell_type": "markdown",
   "id": "a752a242-835f-4688-8d82-40c637c94d94",
   "metadata": {},
   "source": [
    "## Calling GPT-4o-mini to do the repetetive work for us"
   ]
  },
  {
   "cell_type": "code",
   "execution_count": 180,
   "id": "39554833-d306-429d-ab61-2027a4adb270",
   "metadata": {},
   "outputs": [
    {
     "name": "stdout",
     "output_type": "stream",
     "text": [
      "{\n",
      "    \"relevant_links\": [\n",
      "        {\n",
      "            \"type\": \"about\",\n",
      "            \"url\": \"https://plancraft.de/en/team\"\n",
      "        },\n",
      "        {\n",
      "            \"type\": \"product\",\n",
      "            \"url\": \"https://plancraft.de/en/features\"\n",
      "        },\n",
      "        {\n",
      "            \"type\": \"product\",\n",
      "            \"url\": \"https://plancraft.de/en/demo\"\n",
      "        },\n",
      "        {\n",
      "            \"type\": \"product\",\n",
      "            \"url\": \"https://plancraft.de/en/prices\"\n",
      "        },\n",
      "        {\n",
      "            \"type\": \"culture\",\n",
      "            \"url\": \"https://plancraft.de/en/career\"\n",
      "        },\n",
      "        {\n",
      "            \"type\": \"success_stories\",\n",
      "            \"url\": \"https://plancraft.de/en/success-stories\"\n",
      "        },\n",
      "        {\n",
      "            \"type\": \"blog\",\n",
      "            \"url\": \"https://plancraft.de/en/blog\"\n",
      "        }\n",
      "    ]\n",
      "}\n"
     ]
    }
   ],
   "source": [
    "user_prompt_links = create_user_prompt_links(website = plancraft)\n",
    "links = call_openai_json(\n",
    "    system_prompt=system_prompt_links,\n",
    "    user_prompt=user_prompt_links\n",
    ")\n",
    "print(json.dumps(links, indent=4))"
   ]
  },
  {
   "cell_type": "markdown",
   "id": "02ae1fb0-436b-4dfa-b8c7-4dec4020ed5d",
   "metadata": {},
   "source": [
    "## Getting the information from these links using our Website class\n",
    "Awesome! Now, let's scrape the information from these links so we can create our company overview."
   ]
  },
  {
   "cell_type": "code",
   "execution_count": 161,
   "id": "d44e9089-f8fc-43c1-9930-e1d01432e757",
   "metadata": {},
   "outputs": [],
   "source": [
    "def scrape_links(homepage: Website, links: List[str]) -> List[Website]:\n",
    "    websites = [homepage]\n",
    "    for website in links[\"relevant_links\"]:\n",
    "        websites.append(Website(website[\"url\"]))\n",
    "    return websites\n",
    "\n",
    "websites = scrape_links(homepage = plancraft, links = links)\n",
    "website_contents = \"\\n\\n\".join(website.get_contents() for website in websites)"
   ]
  },
  {
   "cell_type": "markdown",
   "id": "a29ef73f-7621-4b62-96a3-3a4d05c9dd78",
   "metadata": {},
   "source": [
    "## Letting GPT-4o-mini summarize and structure the information from unstructured data\n",
    "As you can see, the contents of the different websites are quite unstructured. LLMs are really efficient at making sense of such data though. Let's create another system and user prompt to create a neatly formatted summary of the scraped information. We will ask the LLM to respond using markdown for nice formatting."
   ]
  },
  {
   "cell_type": "code",
   "execution_count": 162,
   "id": "17e818d7-6be0-4e8e-85a3-ef83e0889d2b",
   "metadata": {},
   "outputs": [],
   "source": [
    "system_prompt_summary = \"\"\"\n",
    "You are a useful assistant that summarizes text from websites. You will be provided a list of website contents that was scraped\n",
    "from multiple pages of a company website. For each site, you will get the website title and the text content. Your task is to extract information \n",
    "about the company's product, its culture and its founders. \n",
    "\n",
    "Answer using markdown to provide nice format and structure.\n",
    "\"\"\"\n",
    "\n",
    "def get_user_prompt_summary(url: str, website_contents: str) -> str: \n",
    "    return f\"\"\"\n",
    "Below, you will find the contents of multiple pages scraped from this company webpage: {url}.\n",
    "Use the contents to create a brief summary of the company's product, its culture and its founders. \n",
    "If available, include the names and contacts of the founders so I can get in touch with them.\n",
    "\n",
    "Answer using markdown for nice formatting. \n",
    "\n",
    "These are the contents of multiple relevant webpages: {website_contents}\n",
    "\"\"\"[:40000] # Truncate the response to not create too many tokens for the model at hand"
   ]
  },
  {
   "cell_type": "markdown",
   "id": "133555cc-72c1-4b69-a184-4be0f0afe943",
   "metadata": {},
   "source": [
    "Finally, let's call the LLM again with the new prompts. I will create a new function to call OpenAI that receives plain text rather than JSON."
   ]
  },
  {
   "cell_type": "code",
   "execution_count": 163,
   "id": "5e5d24c4-5568-4568-8d3c-810e2727c316",
   "metadata": {},
   "outputs": [
    {
     "data": {
      "text/markdown": [
       "# Plancraft Company Overview\n",
       "\n",
       "## Product Details\n",
       "Plancraft is a comprehensive craftsman software tailored for various trades including building contractors, roofers, painters, joiners, and carpenters. The platform enhances business operations by integrating features such as:\n",
       "\n",
       "- **Order Documents**: Quickly create offers, order confirmations, delivery notes, and invoices.\n",
       "- **Craftsman Cloud**: Access data anytime and anywhere via the cloud.\n",
       "- **Mobile Measurement**: Facilitates on-site measurements.\n",
       "- **Financial Administration**: Manage payments remotely.\n",
       "- **Time Recording**: Monitor working hours in real-time.\n",
       "- **Master Data Management**: Simplified data handling.\n",
       "- **Post-Calculation**: Analyze and determine profitable pricing for services.\n",
       "- **Planning Board**: Streamlined project and deployment planning.\n",
       "\n",
       "Plancraft primarily focuses on digitizing processes in craft businesses, leading to significant time savings for users. According to success stories featured on their site, users have reported saving considerable hours weekly thanks to Plancraft’s efficiency.\n",
       "\n",
       "## Company Culture\n",
       "Plancraft fosters a vibrant company culture centered around teamwork, humility, and innovation. Their mission emphasizes creating a supportive environment for craftsmen to thrive. The company champions collaboration, continuous learning, and a hands-on approach in addressing user needs. The team values direct contact and responsiveness, ensuring clients receive prompt support.\n",
       "\n",
       "### Team Values\n",
       "- **Together**: Emphasis on collaboration and mutual respect.\n",
       "- **Humble**: Acknowledgment of everyday authenticity and growth.\n",
       "- **Stoked**: Passionate about redefining craftsmanship through digital tools.\n",
       "\n",
       "## Founders\n",
       "Plancraft was founded in 2020 by a trio of dedicated entrepreneurs:\n",
       "- **Julian** - CEO: Interaction and user digitization champion.\n",
       "- **Richard** - CTO: Oversees technical implementations.\n",
       "- **Alexander** - CPO: Craftsman background influencing application development.\n",
       "\n",
       "Contact Information:\n",
       "- **Sales Team**: [sales@plancraft.de](mailto:sales@plancraft.de)\n",
       "- **Phone**: +49 40 32 89 02 43 0\n",
       "\n",
       "For more insights, you can book a demo or start a free trial on their website. Plancraft is committed to redefining craftsmanship through their innovative software solutions."
      ],
      "text/plain": [
       "<IPython.core.display.Markdown object>"
      ]
     },
     "metadata": {},
     "output_type": "display_data"
    }
   ],
   "source": [
    "def call_openai(system_prompt: str, user_prompt: str) -> dict:\n",
    "    response = openai.chat.completions.create(\n",
    "        model = 'gpt-4o-mini',\n",
    "        messages=[\n",
    "            {\"role\": \"system\", \"content\": system_prompt},\n",
    "            {\"role\": \"user\", \"content\": user_prompt}\n",
    "      ]\n",
    "    )\n",
    "    return response.choices[0].message.content\n",
    "\n",
    "user_prompt_summary = get_user_prompt_summary(\n",
    "    url=plancraft.url, \n",
    "    website_contents=website_contents\n",
    ")\n",
    "\n",
    "response = call_openai(\n",
    "    system_prompt=system_prompt_summary,\n",
    "    user_prompt=user_prompt_summary\n",
    ")\n",
    "\n",
    "display(Markdown(response))"
   ]
  },
  {
   "cell_type": "markdown",
   "id": "007295e5-674e-41b6-9f16-ce5701d70e30",
   "metadata": {},
   "source": [
    "## Combine functionality into one function call\n",
    "Awesome!! To make this a bit simpler, let's combine these function calls into a single one."
   ]
  },
  {
   "cell_type": "code",
   "execution_count": 164,
   "id": "e166eac2-4286-407d-9381-6ee98f12665f",
   "metadata": {},
   "outputs": [],
   "source": [
    "def create_company_overview(url: str):\n",
    "    website = Website(url)\n",
    "    \n",
    "    user_prompt_links = create_user_prompt_links(website = website)\n",
    "    links = call_openai_json(\n",
    "        system_prompt=system_prompt_links,\n",
    "        user_prompt=user_prompt_links\n",
    "    )\n",
    "    \n",
    "    websites = scrape_links(homepage=website, links=links)\n",
    "    website_contents = \"\\n\\n\".join(website.get_contents() for website in websites)\n",
    "    user_prompt_summary = get_user_prompt_summary(\n",
    "        url=website.url, \n",
    "        website_contents=website_contents\n",
    "    )\n",
    "    response = call_openai(\n",
    "        system_prompt=system_prompt_summary,\n",
    "        user_prompt=user_prompt_summary\n",
    "    )\n",
    "\n",
    "    display(Markdown(response))"
   ]
  },
  {
   "cell_type": "code",
   "execution_count": 165,
   "id": "8e991291-ff20-4c43-ae5d-23570056c39e",
   "metadata": {},
   "outputs": [
    {
     "data": {
      "text/markdown": [
       "# neuroflash Overview\n",
       "\n",
       "## Company Product\n",
       "neuroflash is a leading AI-based content creation platform in Europe, specializing in the generation of both textual and visual content. The core products offered by neuroflash include:\n",
       "\n",
       "- **Content Generator & Editor**: An intelligent assistant for generating and editing content with integrated SEO analysis and over 100 text templates.\n",
       "- **ChatFlash**: An AI chatbot that generates responses based on the user's knowledge and established writing style.\n",
       "- **Image Generator**: A tool for creating copyright-free images in various styles.\n",
       "- **PerformanceFlash**: Predicts and optimizes content performance, especially short form copy.\n",
       "- **Brand Hub**: A centralized platform for saving brand voices and style guidelines for streamlined content creation.\n",
       "- **neuroflash API**: Allows integration of neuroflash's capabilities into other applications.\n",
       "\n",
       "The platform enables users to create, personalize, and optimize content efficiently, promoting brand consistency and originality across multiple channels.\n",
       "\n",
       "## Company Culture\n",
       "neuroflash prides itself on fostering a diverse and collaborative work culture, allowing global employees to work from anywhere. Their team reflects a commitment to balancing professionalism with creativity, encouraging flexibility such as remote work and personal growth opportunities. The company values customer-centric solutions and practices, ensuring that their offerings meet specific needs effectively. \n",
       "\n",
       "## Founders\n",
       "neuroflash was founded in July 2021 by:\n",
       "\n",
       "1. **Henrik Büning** - Co-CEO & Co-Founder\n",
       "   - [LinkedIn Profile](https://www.linkedin.com/in/henrik-buening-876b501a1/)\n",
       "   \n",
       "2. **Henrik Roth** - Co-CEO & Co-Founder\n",
       "   - [LinkedIn Profile](https://www.linkedin.com/in/henrik-roth-6b58b7195/)\n",
       "   \n",
       "3. **Jonathan Mall** - CIO & Co-Founder\n",
       "   - [LinkedIn Profile](https://www.linkedin.com/in/jonathan-mall-747664a8/)\n",
       "\n",
       "For inquiries, please connect with them through their LinkedIn profiles or through the official neuroflash website for more formal communication channels. \n",
       "\n",
       "## Contact Information\n",
       "- **Website**: [neuroflash.com](https://neuroflash.com/)\n",
       "- **Support Email**: Available through the Help Center on their website.\n",
       "\n",
       "This summary encapsulates the essence of neuroflash as a prominent AI content generation company, emphasizing their innovative solutions, cultural values, and leadership."
      ],
      "text/plain": [
       "<IPython.core.display.Markdown object>"
      ]
     },
     "metadata": {},
     "output_type": "display_data"
    }
   ],
   "source": [
    "create_company_overview(\"https://neuroflash.com/\")"
   ]
  },
  {
   "cell_type": "markdown",
   "id": "ed4a01d8-275d-40ad-b214-942596448ab2",
   "metadata": {},
   "source": [
    "## Improving the solution by wrapping it with a simple UI\n",
    "How cool is that? Just showcases how easy it is to implement simple use cases, all without training and maintaining your own models. To make this a bit nicer, let's wrap a lean UI around it to create an MVP application. We will use Gradio for that.\n",
    "\n",
    "First, let's rewrite that second OpenAI API to stream back the result to make it a bit more like ChatGPT, which is OpenAI's user interface to use these models. We will use the API response to render the result a bit more nicely."
   ]
  },
  {
   "cell_type": "code",
   "execution_count": 166,
   "id": "2a906fd7-2405-46ac-8a8e-05e5277e517b",
   "metadata": {},
   "outputs": [],
   "source": [
    "def call_openai_stream(system_prompt: str, user_prompt: str) -> Generator[dict, None, None]:\n",
    "    return openai.chat.completions.create(\n",
    "        model='gpt-4o-mini',\n",
    "        messages=[\n",
    "            {\"role\": \"system\", \"content\": system_prompt},\n",
    "            {\"role\": \"user\", \"content\": user_prompt}\n",
    "      ],\n",
    "        stream=True\n",
    "    )"
   ]
  },
  {
   "cell_type": "markdown",
   "id": "4fbb1f52-6bfb-451f-88c9-2e9df97dca39",
   "metadata": {},
   "source": [
    "Let's now recreate the create_company_overview function to make it stream the overview. We can use it as a callback for our UI."
   ]
  },
  {
   "cell_type": "code",
   "execution_count": 167,
   "id": "df596554-d236-42bb-9efa-347314dfc719",
   "metadata": {},
   "outputs": [],
   "source": [
    "def stream_company_overview(url: str):\n",
    "    website = Website(url)\n",
    "    \n",
    "    user_prompt_links = create_user_prompt_links(website = website)\n",
    "    links = call_openai_json(\n",
    "        system_prompt=system_prompt_links,\n",
    "        user_prompt=user_prompt_links\n",
    "    )\n",
    "    \n",
    "    websites = scrape_links(homepage = website, links = links)\n",
    "    website_contents = \"\\n\\n\".join(website.get_contents() for website in websites)\n",
    "    user_prompt_summary = get_user_prompt_summary(\n",
    "        url=website.url, \n",
    "        website_contents=website_contents\n",
    "    )\n",
    "    stream = call_openai_stream(\n",
    "        system_prompt=system_prompt_summary,\n",
    "        user_prompt=user_prompt_summary\n",
    "    )\n",
    "\n",
    "    response = \"\"\n",
    "    for chunk in stream:\n",
    "        response += chunk.choices[0].delta.content or \"\"\n",
    "        yield response"
   ]
  },
  {
   "cell_type": "markdown",
   "id": "a6866a75-f716-408b-adbd-48900e93e184",
   "metadata": {},
   "source": [
    "## Creating the UI\n",
    "Finally, let's create our Gradio UI to pass comany website URLs to the function and stream back the results."
   ]
  },
  {
   "cell_type": "code",
   "execution_count": 168,
   "id": "4e10e0d7-3d9b-40ce-bf05-c55e0e9f52d9",
   "metadata": {},
   "outputs": [
    {
     "name": "stdout",
     "output_type": "stream",
     "text": [
      "Running on local URL:  http://127.0.0.1:7870\n",
      "\n",
      "To create a public link, set `share=True` in `launch()`.\n"
     ]
    },
    {
     "data": {
      "text/html": [
       "<div><iframe src=\"http://127.0.0.1:7870/\" width=\"100%\" height=\"500\" allow=\"autoplay; camera; microphone; clipboard-read; clipboard-write;\" frameborder=\"0\" allowfullscreen></iframe></div>"
      ],
      "text/plain": [
       "<IPython.core.display.HTML object>"
      ]
     },
     "metadata": {},
     "output_type": "display_data"
    },
    {
     "data": {
      "text/plain": []
     },
     "execution_count": 168,
     "metadata": {},
     "output_type": "execute_result"
    }
   ],
   "source": [
    "import gradio as gr\n",
    "\n",
    "gr.Interface(\n",
    "    fn=stream_company_overview,\n",
    "    inputs=[gr.Textbox(label=\"Enter company website URL:\", lines=1)],\n",
    "    outputs=[gr.Markdown(label=\"Company overview:\")],\n",
    "    allow_flagging=\"never\"\n",
    ").launch()"
   ]
  },
  {
   "cell_type": "code",
   "execution_count": null,
   "id": "01d840d4-f899-4cb1-a556-669cf0e70e52",
   "metadata": {},
   "outputs": [],
   "source": []
  }
 ],
 "metadata": {
  "kernelspec": {
   "display_name": "Python 3 (ipykernel)",
   "language": "python",
   "name": "python3"
  },
  "language_info": {
   "codemirror_mode": {
    "name": "ipython",
    "version": 3
   },
   "file_extension": ".py",
   "mimetype": "text/x-python",
   "name": "python",
   "nbconvert_exporter": "python",
   "pygments_lexer": "ipython3",
   "version": "3.12.7"
  }
 },
 "nbformat": 4,
 "nbformat_minor": 5
}
